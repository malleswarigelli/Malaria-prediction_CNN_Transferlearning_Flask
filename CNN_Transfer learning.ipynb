{
 "cells": [
  {
   "cell_type": "markdown",
   "metadata": {},
   "source": [
    "# Malaria Detection using CNN, Transfer Learning"
   ]
  },
  {
   "cell_type": "markdown",
   "metadata": {},
   "source": [
    "# Download The Dataset from \n",
    "https://www.kaggle.com/iarunava/cell-images-for-detecting-malaria"
   ]
  },
  {
   "cell_type": "markdown",
   "metadata": {},
   "source": [
    "# Create CNN with Transfer learning"
   ]
  },
  {
   "cell_type": "markdown",
   "metadata": {},
   "source": [
    "## Import libraries"
   ]
  },
  {
   "cell_type": "code",
   "execution_count": 62,
   "metadata": {},
   "outputs": [
    {
     "name": "stdout",
     "output_type": "stream",
     "text": [
      "2.10.0\n"
     ]
    }
   ],
   "source": [
    "import tensorflow as tf; print(tf.__version__)"
   ]
  },
  {
   "cell_type": "code",
   "execution_count": 63,
   "metadata": {},
   "outputs": [],
   "source": [
    "from tensorflow.keras.layers import Input, Lambda, Dense, Flatten,Conv2D\n",
    "from tensorflow.keras.models import Model\n",
    "from tensorflow.keras.applications.vgg19 import VGG19\n",
    "from tensorflow.keras.applications.resnet50 import preprocess_input\n",
    "from tensorflow.keras.preprocessing import image\n",
    "from tensorflow.keras.preprocessing.image import ImageDataGenerator,load_img\n",
    "from tensorflow.keras.models import Sequential\n",
    "import numpy as np\n",
    "from glob import glob\n",
    "import matplotlib.pyplot as plt"
   ]
  },
  {
   "cell_type": "markdown",
   "metadata": {},
   "source": [
    "# Image details and dataset"
   ]
  },
  {
   "cell_type": "code",
   "execution_count": 76,
   "metadata": {},
   "outputs": [],
   "source": [
    "# resize images\n",
    "IMAGE_SIZE =[224,224]\n",
    "\n",
    "# datasets\n",
    "train_path = 'Dataset/Train'\n",
    "test_path = 'Dataset/Test'"
   ]
  },
  {
   "cell_type": "code",
   "execution_count": 66,
   "metadata": {},
   "outputs": [],
   "source": [
    "# add preprocessing layer infront of VGG\n",
    "vgg = VGG19(input_shape = IMAGE_SIZE + [3], weights = 'imagenet', include_top = False) # cuts the first and last layer\n",
    "vgg.summary()\n",
    "\n",
    "# don't train existing weights \n",
    "for layer in vgg.layers:\n",
    "    layer.trainable = False"
   ]
  },
  {
   "cell_type": "code",
   "execution_count": 67,
   "metadata": {},
   "outputs": [
    {
     "data": {
      "text/plain": [
       "['Dataset/Train/Parasite', 'Dataset/Train/Uninfected']"
      ]
     },
     "execution_count": 67,
     "metadata": {},
     "output_type": "execute_result"
    }
   ],
   "source": [
    "# get numer of output classess based on the folders in the path i.e Parasite (1) and Uninfected (0)\n",
    "folders = glob('Dataset/Train/*')\n",
    "folders"
   ]
  },
  {
   "cell_type": "code",
   "execution_count": 68,
   "metadata": {},
   "outputs": [
    {
     "name": "stdout",
     "output_type": "stream",
     "text": [
      "KerasTensor(type_spec=TensorSpec(shape=(None, 25088), dtype=tf.float32, name=None), name='flatten_8/Reshape:0', description=\"created by layer 'flatten_8'\")\n",
      "Model: \"model_3\"\n",
      "_________________________________________________________________\n",
      " Layer (type)                Output Shape              Param #   \n",
      "=================================================================\n",
      " input_5 (InputLayer)        [(None, 224, 224, 3)]     0         \n",
      "                                                                 \n",
      " block1_conv1 (Conv2D)       (None, 224, 224, 64)      1792      \n",
      "                                                                 \n",
      " block1_conv2 (Conv2D)       (None, 224, 224, 64)      36928     \n",
      "                                                                 \n",
      " block1_pool (MaxPooling2D)  (None, 112, 112, 64)      0         \n",
      "                                                                 \n",
      " block2_conv1 (Conv2D)       (None, 112, 112, 128)     73856     \n",
      "                                                                 \n",
      " block2_conv2 (Conv2D)       (None, 112, 112, 128)     147584    \n",
      "                                                                 \n",
      " block2_pool (MaxPooling2D)  (None, 56, 56, 128)       0         \n",
      "                                                                 \n",
      " block3_conv1 (Conv2D)       (None, 56, 56, 256)       295168    \n",
      "                                                                 \n",
      " block3_conv2 (Conv2D)       (None, 56, 56, 256)       590080    \n",
      "                                                                 \n",
      " block3_conv3 (Conv2D)       (None, 56, 56, 256)       590080    \n",
      "                                                                 \n",
      " block3_conv4 (Conv2D)       (None, 56, 56, 256)       590080    \n",
      "                                                                 \n",
      " block3_pool (MaxPooling2D)  (None, 28, 28, 256)       0         \n",
      "                                                                 \n",
      " block4_conv1 (Conv2D)       (None, 28, 28, 512)       1180160   \n",
      "                                                                 \n",
      " block4_conv2 (Conv2D)       (None, 28, 28, 512)       2359808   \n",
      "                                                                 \n",
      " block4_conv3 (Conv2D)       (None, 28, 28, 512)       2359808   \n",
      "                                                                 \n",
      " block4_conv4 (Conv2D)       (None, 28, 28, 512)       2359808   \n",
      "                                                                 \n",
      " block4_pool (MaxPooling2D)  (None, 14, 14, 512)       0         \n",
      "                                                                 \n",
      " block5_conv1 (Conv2D)       (None, 14, 14, 512)       2359808   \n",
      "                                                                 \n",
      " block5_conv2 (Conv2D)       (None, 14, 14, 512)       2359808   \n",
      "                                                                 \n",
      " block5_conv3 (Conv2D)       (None, 14, 14, 512)       2359808   \n",
      "                                                                 \n",
      " block5_conv4 (Conv2D)       (None, 14, 14, 512)       2359808   \n",
      "                                                                 \n",
      " block5_pool (MaxPooling2D)  (None, 7, 7, 512)         0         \n",
      "                                                                 \n",
      " flatten_8 (Flatten)         (None, 25088)             0         \n",
      "                                                                 \n",
      " dense_12 (Dense)            (None, 2)                 50178     \n",
      "                                                                 \n",
      "=================================================================\n",
      "Total params: 20,074,562\n",
      "Trainable params: 50,178\n",
      "Non-trainable params: 20,024,384\n",
      "_________________________________________________________________\n"
     ]
    }
   ],
   "source": [
    "# flatten vgg layers so that dense layers are added\n",
    "x =Flatten()(vgg.output)\n",
    "print(x)\n",
    "# Add dense layer with # of output layers i.e Parasite and Uninfected\n",
    "prediction = Dense(len(folders), activation = 'softmax')(x) # softmax due to 2 output layers or nodes\n",
    "\n",
    "# create model\n",
    "model = Model(inputs = vgg.input, outputs = prediction)\n",
    "model.summary()"
   ]
  },
  {
   "cell_type": "markdown",
   "metadata": {},
   "source": [
    "# Create CNN model from scratch"
   ]
  },
  {
   "cell_type": "code",
   "execution_count": 69,
   "metadata": {},
   "outputs": [],
   "source": [
    "# from tensorflow.keras.layers import MaxPooling2D\n",
    "# model = Sequential()\n",
    "# model.add(Conv2D(filters=16, kernel_size=2, padding='same',activation =\"relu\", input_shape=(16,16,3)))\n",
    "# model.add(MaxPooling2D(pool_size=2))\n",
    "# model.add(Conv2D(filters=32, kernel_size=2, padding='same',activation =\"relu\", input_shape=(16,16,3)))\n",
    "# model.add(MaxPooling2D(pool_size=2))\n",
    "# model.add(Conv2D(filters=64, kernel_size=2, padding='same',activation =\"relu\", input_shape=(16,16,3)))\n",
    "# model.add(MaxPooling2D(pool_size=2))\n",
    "\n",
    "# model.add(Flatten())\n",
    "# model.add(Dense(500, activation='relu'))\n",
    "# model.add(Dense(2, activation = 'softmax')) # softmax since 2 nodes\n",
    "# model.summary()\n",
    "\n",
    "# # freeze all layers except last layer, it needs to trained again and again until gets good accuracy"
   ]
  },
  {
   "cell_type": "code",
   "execution_count": 70,
   "metadata": {},
   "outputs": [],
   "source": [
    "# tell what model cost/loss & optimization method to use\n",
    "model.compile(loss = \"categorical_crossentropy\", # because at last i will have 2 nodes\n",
    "                       optimizer = 'adam', metrics = [\"accuracy\"])"
   ]
  },
  {
   "cell_type": "code",
   "execution_count": 71,
   "metadata": {},
   "outputs": [
    {
     "data": {
      "text/plain": [
       "<keras.preprocessing.image.ImageDataGenerator at 0x7f832078b7c0>"
      ]
     },
     "execution_count": 71,
     "metadata": {},
     "output_type": "execute_result"
    }
   ],
   "source": [
    "# use IMAGE DATA GENERATOR to import images from dataset\n",
    "from tensorflow.keras.preprocessing.image import ImageDataGenerator\n",
    "# do image data augmentation for training data to create more data\n",
    "train_datagen = ImageDataGenerator(rescale = 1./255, shear_range = 0.2, zoom_range= 0.2, horizontal_flip=True)\n",
    "# for test data, no image augmentation needed. Only rescaling is needed so that every pixel in the image ranges between 1 to 255 (or scale 0 to 1)\n",
    "test_datagen= ImageDataGenerator(rescale= 1./255)\n",
    "test_datagen"
   ]
  },
  {
   "cell_type": "code",
   "execution_count": 72,
   "metadata": {},
   "outputs": [
    {
     "name": "stdout",
     "output_type": "stream",
     "text": [
      "Found 416 images belonging to 2 classes.\n"
     ]
    },
    {
     "data": {
      "text/plain": [
       "<keras.preprocessing.image.DirectoryIterator at 0x7f832078b610>"
      ]
     },
     "execution_count": 72,
     "metadata": {},
     "output_type": "execute_result"
    }
   ],
   "source": [
    "# make sure to provide same target size as initialized for image\n",
    "training_set = train_datagen.flow_from_directory('Dataset/Train', target_size = (224,224), batch_size = 32, class_mode = 'categorical')\n",
    "training_set"
   ]
  },
  {
   "cell_type": "code",
   "execution_count": 73,
   "metadata": {},
   "outputs": [
    {
     "name": "stdout",
     "output_type": "stream",
     "text": [
      "Found 134 images belonging to 2 classes.\n"
     ]
    },
    {
     "data": {
      "text/plain": [
       "<keras.preprocessing.image.DirectoryIterator at 0x7f83003f2ee0>"
      ]
     },
     "execution_count": 73,
     "metadata": {},
     "output_type": "execute_result"
    }
   ],
   "source": [
    "test_set = test_datagen.flow_from_directory('Dataset/Test', target_size = (224,224), batch_size = 32, class_mode = 'categorical')\n",
    "test_set"
   ]
  },
  {
   "cell_type": "code",
   "execution_count": 84,
   "metadata": {},
   "outputs": [
    {
     "name": "stdout",
     "output_type": "stream",
     "text": [
      "Epoch 1/3\n",
      "13/13 [==============================] - 79s 6s/step - loss: 0.2308 - accuracy: 0.9062 - val_loss: 0.3166 - val_accuracy: 0.8955\n",
      "Epoch 2/3\n",
      "13/13 [==============================] - 78s 6s/step - loss: 0.2198 - accuracy: 0.9399 - val_loss: 0.3435 - val_accuracy: 0.8284\n",
      "Epoch 3/3\n",
      "13/13 [==============================] - 79s 6s/step - loss: 0.2738 - accuracy: 0.8750 - val_loss: 0.2799 - val_accuracy: 0.9104\n"
     ]
    }
   ],
   "source": [
    "# fit the model\n",
    "r = model.fit(training_set, validation_data=test_set, epochs=3, steps_per_epoch=len(training_set), validation_steps=len(test_set))"
   ]
  },
  {
   "cell_type": "markdown",
   "metadata": {},
   "source": [
    "# plot the loss"
   ]
  },
  {
   "cell_type": "code",
   "execution_count": 82,
   "metadata": {},
   "outputs": [
    {
     "data": {
      "image/png": "[encoded data removed]",
      "text/plain": [
       "<Figure size 640x480 with 1 Axes>"
      ]
     },
     "metadata": {},
     "output_type": "display_data"
    },
    {
     "data": {
      "text/plain": [
       "<Figure size 640x480 with 0 Axes>"
      ]
     },
     "metadata": {},
     "output_type": "display_data"
    }
   ],
   "source": [
    "plt.plot(r.history['loss'], label='train_loss')\n",
    "plt.plot(r.history['val_loss'], label = 'val_loss')\n",
    "plt.legend()\n",
    "plt.show()\n",
    "plt.savefig('Lossval_loss')"
   ]
  },
  {
   "cell_type": "markdown",
   "metadata": {},
   "source": [
    "# plot accuracy"
   ]
  },
  {
   "cell_type": "code",
   "execution_count": 83,
   "metadata": {},
   "outputs": [
    {
     "data": {
      "image/png": "[encoded data removed]",
      "text/plain": [
       "<Figure size 640x480 with 1 Axes>"
      ]
     },
     "metadata": {},
     "output_type": "display_data"
    },
    {
     "data": {
      "text/plain": [
       "<Figure size 640x480 with 0 Axes>"
      ]
     },
     "metadata": {},
     "output_type": "display_data"
    }
   ],
   "source": [
    "plt.plot(r.history['accuracy'], label='train_accuracy')\n",
    "plt.plot(r.history['val_accuracy'], label = 'val_accuracy')\n",
    "plt.legend()\n",
    "plt.show()\n",
    "plt.savefig('Lossval_loss')"
   ]
  },
  {
   "cell_type": "code",
   "execution_count": 85,
   "metadata": {},
   "outputs": [],
   "source": [
    "# save the model as h5 file\n",
    "from tensorflow.keras.models import load_model\n",
    "model.save('model_vgg19.h5')"
   ]
  },
  {
   "cell_type": "markdown",
   "metadata": {},
   "source": [
    "## make predictions"
   ]
  },
  {
   "cell_type": "code",
   "execution_count": 90,
   "metadata": {},
   "outputs": [
    {
     "name": "stdout",
     "output_type": "stream",
     "text": [
      "5/5 [==============================] - 19s 4s/step\n"
     ]
    },
    {
     "data": {
      "text/plain": [
       "array([[0.6078018 , 0.3921982 ],\n",
       "       [0.40881628, 0.5911838 ],\n",
       "       [0.84646577, 0.15353423],\n",
       "       [0.9624524 , 0.03754766],\n",
       "       [0.6621482 , 0.33785185]], dtype=float32)"
      ]
     },
     "execution_count": 90,
     "metadata": {},
     "output_type": "execute_result"
    }
   ],
   "source": [
    "# since dense layer has 2 nodes, get 2 values in output (~1 is parasitic, 0 is uninfected)\n",
    "y_pred = model.predict(test_set)\n",
    "y_pred[:5]"
   ]
  },
  {
   "cell_type": "code",
   "execution_count": 91,
   "metadata": {},
   "outputs": [
    {
     "data": {
      "text/plain": [
       "array([0, 1, 0, 0, 0, 1, 1, 1, 0, 1, 0, 1, 0, 0, 1, 0, 0, 0, 0, 1, 0, 0,\n",
       "       1, 0, 0, 1, 0, 1, 0, 0, 0, 1, 0, 1, 1, 1, 1, 1, 0, 1, 0, 0, 0, 0,\n",
       "       0, 0, 1, 0, 0, 0, 0, 0, 0, 0, 0, 1, 1, 1, 1, 0, 0, 0, 1, 1, 0, 0,\n",
       "       0, 0, 1, 1, 0, 0, 0, 1, 1, 0, 0, 1, 1, 0, 0, 0, 0, 0, 0, 1, 0, 1,\n",
       "       0, 1, 1, 0, 0, 0, 1, 0, 0, 1, 0, 0, 1, 0, 0, 1, 0, 1, 0, 1, 0, 0,\n",
       "       0, 0, 1, 1, 0, 0, 1, 0, 1, 0, 1, 0, 1, 1, 0, 0, 1, 0, 0, 0, 0, 1,\n",
       "       0, 1])"
      ]
     },
     "execution_count": 91,
     "metadata": {},
     "output_type": "execute_result"
    }
   ],
   "source": [
    "# convert values into max number\n",
    "y_pred = np.argmax(y_pred, axis=1) # get max value in every row\n",
    "y_pred"
   ]
  },
  {
   "cell_type": "markdown",
   "metadata": {},
   "source": [
    "# Read images and predict whether infected or not"
   ]
  },
  {
   "cell_type": "code",
   "execution_count": 103,
   "metadata": {},
   "outputs": [
    {
     "name": "stdout",
     "output_type": "stream",
     "text": [
      "(224, 224, 3)\n",
      "[[[0. 0. 0.]\n",
      "  [0. 0. 0.]\n",
      "  [0. 0. 0.]\n",
      "  ...\n",
      "  [0. 0. 0.]\n",
      "  [0. 0. 0.]\n",
      "  [0. 0. 0.]]\n",
      "\n",
      " [[0. 0. 0.]\n",
      "  [0. 0. 0.]\n",
      "  [0. 0. 0.]\n",
      "  ...\n",
      "  [0. 0. 0.]\n",
      "  [0. 0. 0.]\n",
      "  [0. 0. 0.]]\n",
      "\n",
      " [[0. 0. 0.]\n",
      "  [0. 0. 0.]\n",
      "  [0. 0. 0.]\n",
      "  ...\n",
      "  [0. 0. 0.]\n",
      "  [0. 0. 0.]\n",
      "  [0. 0. 0.]]\n",
      "\n",
      " ...\n",
      "\n",
      " [[0. 0. 0.]\n",
      "  [0. 0. 0.]\n",
      "  [0. 0. 0.]\n",
      "  ...\n",
      "  [0. 0. 0.]\n",
      "  [0. 0. 0.]\n",
      "  [0. 0. 0.]]\n",
      "\n",
      " [[0. 0. 0.]\n",
      "  [0. 0. 0.]\n",
      "  [0. 0. 0.]\n",
      "  ...\n",
      "  [0. 0. 0.]\n",
      "  [0. 0. 0.]\n",
      "  [0. 0. 0.]]\n",
      "\n",
      " [[0. 0. 0.]\n",
      "  [0. 0. 0.]\n",
      "  [0. 0. 0.]\n",
      "  ...\n",
      "  [0. 0. 0.]\n",
      "  [0. 0. 0.]\n",
      "  [0. 0. 0.]]]\n"
     ]
    }
   ],
   "source": [
    "from tensorflow.keras.models import load_model\n",
    "from tensorflow.keras.preprocessing import image\n",
    "# load saved model\n",
    "model = load_model('model_vgg19.h5')\n",
    "img = image.load_img('Dataset/Test/Uninfected/2.png',target_size=(224,224)) # same size as input image size\n",
    "\n",
    "x = image.img_to_array(img)\n",
    "print(x.shape)\n",
    "print(x)"
   ]
  },
  {
   "cell_type": "code",
   "execution_count": 104,
   "metadata": {},
   "outputs": [
    {
     "name": "stdout",
     "output_type": "stream",
     "text": [
      "[[[[-103.939 -116.779 -123.68 ]\n",
      "   [-103.939 -116.779 -123.68 ]\n",
      "   [-103.939 -116.779 -123.68 ]\n",
      "   ...\n",
      "   [-103.939 -116.779 -123.68 ]\n",
      "   [-103.939 -116.779 -123.68 ]\n",
      "   [-103.939 -116.779 -123.68 ]]\n",
      "\n",
      "  [[-103.939 -116.779 -123.68 ]\n",
      "   [-103.939 -116.779 -123.68 ]\n",
      "   [-103.939 -116.779 -123.68 ]\n",
      "   ...\n",
      "   [-103.939 -116.779 -123.68 ]\n",
      "   [-103.939 -116.779 -123.68 ]\n",
      "   [-103.939 -116.779 -123.68 ]]\n",
      "\n",
      "  [[-103.939 -116.779 -123.68 ]\n",
      "   [-103.939 -116.779 -123.68 ]\n",
      "   [-103.939 -116.779 -123.68 ]\n",
      "   ...\n",
      "   [-103.939 -116.779 -123.68 ]\n",
      "   [-103.939 -116.779 -123.68 ]\n",
      "   [-103.939 -116.779 -123.68 ]]\n",
      "\n",
      "  ...\n",
      "\n",
      "  [[-103.939 -116.779 -123.68 ]\n",
      "   [-103.939 -116.779 -123.68 ]\n",
      "   [-103.939 -116.779 -123.68 ]\n",
      "   ...\n",
      "   [-103.939 -116.779 -123.68 ]\n",
      "   [-103.939 -116.779 -123.68 ]\n",
      "   [-103.939 -116.779 -123.68 ]]\n",
      "\n",
      "  [[-103.939 -116.779 -123.68 ]\n",
      "   [-103.939 -116.779 -123.68 ]\n",
      "   [-103.939 -116.779 -123.68 ]\n",
      "   ...\n",
      "   [-103.939 -116.779 -123.68 ]\n",
      "   [-103.939 -116.779 -123.68 ]\n",
      "   [-103.939 -116.779 -123.68 ]]\n",
      "\n",
      "  [[-103.939 -116.779 -123.68 ]\n",
      "   [-103.939 -116.779 -123.68 ]\n",
      "   [-103.939 -116.779 -123.68 ]\n",
      "   ...\n",
      "   [-103.939 -116.779 -123.68 ]\n",
      "   [-103.939 -116.779 -123.68 ]\n",
      "   [-103.939 -116.779 -123.68 ]]]]\n",
      "(1, 224, 224, 3)\n"
     ]
    }
   ],
   "source": [
    "# rescaling the new image, sice rescaling applied to test data \n",
    "x = x/255 \n",
    "\n",
    "# then, expand dimensionality of image with respect to axis=0\n",
    "x = np.expand_dims(x, axis=0)\n",
    "img_data = preprocess_input(x)\n",
    "print(img_data)\n",
    "print(img_data.shape)"
   ]
  },
  {
   "cell_type": "code",
   "execution_count": 107,
   "metadata": {},
   "outputs": [
    {
     "name": "stdout",
     "output_type": "stream",
     "text": [
      "1/1 [==============================] - 0s 206ms/step\n",
      "1/1 [==============================] - 0s 209ms/step\n",
      "[1]\n",
      "parasitic and infected\n"
     ]
    }
   ],
   "source": [
    "# predict the image \n",
    "model.predict(img_data)\n",
    "\n",
    "# then, get the max value\n",
    "a = np.argmax(model.predict(img_data), axis=1)\n",
    "print(a)\n",
    "\n",
    "if a == 1:\n",
    "    print('parasitic and infected')\n",
    "else:\n",
    "    print('uninfected')"
   ]
  }
 ],
 "metadata": {
  "kernelspec": {
   "display_name": "Python 3.9.13 ('DeepLearning')",
   "language": "python",
   "name": "python3"
  },
  "language_info": {
   "codemirror_mode": {
    "name": "ipython",
    "version": 3
   },
   "file_extension": ".py",
   "mimetype": "text/x-python",
   "name": "python",
   "nbconvert_exporter": "python",
   "pygments_lexer": "ipython3",
   "version": "3.9.13"
  },
  "orig_nbformat": 4,
  "vscode": {
   "interpreter": {
    "hash": "b794222aaf6025cdb550e52cca5c131b01a7eaa7795464aba38aa8ab78675e91"
   }
  }
 },
 "nbformat": 4,
 "nbformat_minor": 2
}
